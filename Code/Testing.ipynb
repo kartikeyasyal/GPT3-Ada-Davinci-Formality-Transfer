{
 "cells": [
  {
   "cell_type": "code",
   "execution_count": 1,
   "metadata": {},
   "outputs": [],
   "source": [
    "import openai\n",
    "import os\n",
    "import json"
   ]
  },
  {
   "cell_type": "code",
   "execution_count": 2,
   "metadata": {},
   "outputs": [],
   "source": [
    "# PROJECT_CONSTANTS_FILEPATH should be a json file with the structure:\n",
    "# {\"API_KEY\": \"<YOUR_API_KEY>\", \"MODELS\": {\"ADA\": \"<YOUR_TRAINED_ADA_MODEL_NAME>\", \"DAVINCI\": \"<YOUR_TRAINED_DAVINCI_MODEL_NAME>\"}}"
   ]
  },
  {
   "cell_type": "code",
   "execution_count": 9,
   "metadata": {},
   "outputs": [],
   "source": [
    "PROJECT_CONSTANTS_FILEPATH = os.path.join(os.getcwd(),\"PROJECT_CONSTANTS.json\")\n",
    "\n",
    "with open(PROJECT_CONSTANTS_FILEPATH,'r') as f:\n",
    "    json_contents = json.load(f)\n",
    "\n",
    "API_KEY = json_contents[\"API_KEY\"]\n",
    "FINE_TUNED_MODEL_ADA = json_contents[\"MODELS\"][\"ADA\"]\n",
    "FINE_TUNED_MODEL_DAVINCI = json_contents[\"MODELS\"][\"DAVINCI\"]\n",
    "\n",
    "QUERIES = [\n",
    "    \"You better do this work by tomorrow\",\n",
    "    \"u r too dumb to understand this small thing.\",\n",
    "    \"So negative and critical all the time! You need to learn to be a positive and supportive fella if you want to be a good member of this team.\",\n",
    "    \"You can't even complete such an easy homework!\",\n",
    "    \"You had one job and couldn't even do that.\",\n",
    "    \"You are gay.\",\n",
    "    \"Hey wassup! how r u doin?\",\n",
    "    \"Hi! I really need help here. Is anyone here familiar with Dreamweaver software? I've spent whole day trying to make my web design works but fuck.\",\n",
    "    \"Anybody having a colossal fuck on with Spotify ? Keep getting emails about dickheads in USA logging into my account. Songs pause half way through when played through google home device. Signed out of everywhere on multiple occasions and changed password. Still pausing.\",\n",
    "    \"your customer service is fuckin rediculous.. 4 months for a reply and not even the right one.. my account was hacked and my winfows 10 key stolen and redeemed, fuckin help me you useless bastards\",\n",
    "    \"dude should have been taken to api , he would be right at home with all the other knuckleheads there\",\n",
    "    \"im not gonna sell the fucking picture , i just want to contribute to the fucking article.\",\n",
    "    \"these exam retakes and try until you pass ideas mean any idiot can get credentials for any profession anytime.\",\n",
    "    \"he is working with russia to take down america and clowns like you are too clueless to notice.\",\n",
    "    \"dear alaexis , this kid is an asshole , does not understand anything , an idiot .\",\n",
    "    \"r u nuts?\"\n",
    "    ]"
   ]
  },
  {
   "cell_type": "code",
   "execution_count": 4,
   "metadata": {},
   "outputs": [],
   "source": [
    "openai.api_key = API_KEY"
   ]
  },
  {
   "cell_type": "code",
   "execution_count": 5,
   "metadata": {},
   "outputs": [],
   "source": [
    "def get_answer_ada(queries):\n",
    "    responses = dict()\n",
    "    for query in queries:\n",
    "        max_tokens = len(query.split())+10\n",
    "        prompt = f\"{query} ->\"\n",
    "        response = openai.Completion.create(\n",
    "            model=FINE_TUNED_MODEL_ADA,\n",
    "            prompt=prompt,\n",
    "            max_tokens=max_tokens,\n",
    "            temperature=0)\n",
    "        responses[query]=response['choices'][0]['text'].split('\\n')[0].strip()\n",
    "        \n",
    "    \n",
    "    return responses"
   ]
  },
  {
   "cell_type": "code",
   "execution_count": 6,
   "metadata": {},
   "outputs": [],
   "source": [
    "def get_answer_davinci(queries):\n",
    "    responses = dict()\n",
    "    for query in queries:\n",
    "        max_tokens = len(query.split())+10\n",
    "        prompt = f\"{query} ->\"\n",
    "        response = openai.Completion.create(\n",
    "            model=FINE_TUNED_MODEL_DAVINCI,\n",
    "            prompt=prompt,\n",
    "            max_tokens=max_tokens,\n",
    "            temperature=0)\n",
    "        responses[query]=response['choices'][0]['text'].split('\\n')[0].strip()\n",
    "        \n",
    "    \n",
    "    return responses"
   ]
  },
  {
   "cell_type": "code",
   "execution_count": 7,
   "metadata": {},
   "outputs": [
    {
     "data": {
      "text/plain": [
       "{'You better do this work by tomorrow': 'Please complete this task by tomorrow.',\n",
       " 'u r too dumb to understand this small thing.': 'I believe that you may be lacking in the understanding of this small detail.',\n",
       " 'So negative and critical all the time! You need to learn to be a positive and supportive fella if you want to be a good member of this team.': \"The impact of negative and critical behaviors on team members is important, so let's work to improve our communication and team dynamics, so we can all benefit from each other's strengths and experience.\",\n",
       " \"You can't even complete such an easy homework!\": 'It seems that you may need some help with this homework. Would you like some help?',\n",
       " \"You had one job and couldn't even do that.\": 'Your job was to do one thing and failed to do that.',\n",
       " 'You are gay.': 'You are not normal.',\n",
       " 'Hey wassup! how r u doin?': 'Excuse me; I would like to know how you are doing.',\n",
       " \"Hi! I really need help here. Is anyone here familiar with Dreamweaver software? I've spent whole day trying to make my web design works but fuck.\": 'I am trying to create my web design works but it is not working. Is anyone familiar with Dreamweaver software? I have spent whole day trying to make my web design works',\n",
       " 'Anybody having a colossal fuck on with Spotify ? Keep getting emails about dickheads in USA logging into my account. Songs pause half way through when played through google home device. Signed out of everywhere on multiple occasions and changed password. Still pausing.': 'Spotify is getting emails about people being involved in a massive dickhead activity in the United States. Songs play half way through when played through Google Home, and the volume ispaared halfway when the issue is brought to mind.',\n",
       " 'your customer service is fuckin rediculous.. 4 months for a reply and not even the right one.. my account was hacked and my winfows 10 key stolen and redeemed, fuckin help me you useless bastards': 'I am having trouble getting a response from the customer service department. I am also having trouble getting the winfows 10 key back, and I am not getting any help from you.',\n",
       " 'dude should have been taken to api , he would be right at home with all the other knuckleheads there': 'It would have been beneficial for the individual to be taken to the api to ensure their needs are met.',\n",
       " 'im not gonna sell the fucking picture , i just want to contribute to the fucking article.': 'I am not selling the picture, but I would like to contribute to the article.',\n",
       " 'these exam retakes and try until you pass ideas mean any idiot can get credentials for any profession anytime.': \"It is important to ensure that any credential obtained is appropriate for the individual's job.\",\n",
       " 'he is working with russia to take down america and clowns like you are too clueless to notice.': 'He is working with Russia to take down America and others like us are not aware of their involvement.',\n",
       " 'dear alaexis , this kid is an asshole , does not understand anything , an idiot .': 'It seems that this individual may be lacking in knowledge and may be unsure of what to do.',\n",
       " 'r u nuts?': 'Would you like some nuts?'}"
      ]
     },
     "execution_count": 7,
     "metadata": {},
     "output_type": "execute_result"
    }
   ],
   "source": [
    "get_answer_ada(QUERIES)"
   ]
  },
  {
   "cell_type": "code",
   "execution_count": 8,
   "metadata": {},
   "outputs": [
    {
     "data": {
      "text/plain": [
       "{'You better do this work by tomorrow': 'Please complete this work by tomorrow.',\n",
       " 'u r too dumb to understand this small thing.': 'I recommend reviewing this information to better understand the concept at hand.',\n",
       " 'So negative and critical all the time! You need to learn to be a positive and supportive fella if you want to be a good member of this team.': \"It's important to approach work with a positive and supportive mindset, and I appreciate your commitment to developing this skill.\",\n",
       " \"You can't even complete such an easy homework!\": \"I'm sorry to hear that you are having difficulties completing the homework. Would you like some\",\n",
       " \"You had one job and couldn't even do that.\": \"I'm sorry to hear that you encountered some issues while performing the task at hand.\",\n",
       " 'You are gay.': 'I understand that you are gay.',\n",
       " 'Hey wassup! how r u doin?': 'Hello, how are you doing?',\n",
       " \"Hi! I really need help here. Is anyone here familiar with Dreamweaver software? I've spent whole day trying to make my web design works but fuck.\": 'I am facing some issues with the Dreamweaver software and would appreciate any kind of assistance. I have spent the whole day trying to make my web design work, but so far',\n",
       " 'Anybody having a colossal fuck on with Spotify ? Keep getting emails about dickheads in USA logging into my account. Songs pause half way through when played through google home device. Signed out of everywhere on multiple occasions and changed password. Still pausing.': 'I am facing issues with Spotify, like getting emails about unauthorized users from the USA trying to log into my account, and the songs are pausing half way through when played through the Google Home device. I have tried signing out of everywhere and changing the password multiple times',\n",
       " 'your customer service is fuckin rediculous.. 4 months for a reply and not even the right one.. my account was hacked and my winfows 10 key stolen and redeemed, fuckin help me you useless bastards': 'I am not satisfied with the customer service I have received. It has taken four months for a reply, and even then, it was not the right one. My account was hacked, and my Windows 10 key was stolen and',\n",
       " 'dude should have been taken to api , he would be right at home with all the other knuckleheads there': 'That person would fit in well at the API level, alongside other colleagues.',\n",
       " 'im not gonna sell the fucking picture , i just want to contribute to the fucking article.': 'I will not sell the picture I have, but I just want to contribute to the article.',\n",
       " 'these exam retakes and try until you pass ideas mean any idiot can get credentials for any profession anytime.': 'The idea that anyone can obtain credentials for any profession without proper knowledge is concerning.',\n",
       " 'he is working with russia to take down america and clowns like you are too clueless to notice.': 'He is collaborating with Russia to undermine America, and you appear to be unaware of this.',\n",
       " 'dear alaexis , this kid is an asshole , does not understand anything , an idiot .': 'This student appears to be having difficulties comprehending the material.',\n",
       " 'r u nuts?': 'Is there something wrong with you?'}"
      ]
     },
     "execution_count": 8,
     "metadata": {},
     "output_type": "execute_result"
    }
   ],
   "source": [
    "get_answer_davinci(QUERIES)"
   ]
  },
  {
   "cell_type": "code",
   "execution_count": null,
   "metadata": {},
   "outputs": [],
   "source": []
  }
 ],
 "metadata": {
  "kernelspec": {
   "display_name": "base",
   "language": "python",
   "name": "python3"
  },
  "language_info": {
   "codemirror_mode": {
    "name": "ipython",
    "version": 3
   },
   "file_extension": ".py",
   "mimetype": "text/x-python",
   "name": "python",
   "nbconvert_exporter": "python",
   "pygments_lexer": "ipython3",
   "version": "3.9.15"
  },
  "orig_nbformat": 4
 },
 "nbformat": 4,
 "nbformat_minor": 2
}
